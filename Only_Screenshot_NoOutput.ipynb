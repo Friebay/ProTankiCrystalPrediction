{
  "nbformat": 4,
  "nbformat_minor": 0,
  "metadata": {
    "colab": {
      "provenance": []
    },
    "kernelspec": {
      "name": "python3",
      "display_name": "Python 3"
    },
    "language_info": {
      "name": "python"
    }
  },
  "cells": [
    {
      "cell_type": "code",
      "source": [
        "!sudo apt install tesseract-ocr\n",
        "!pip install pytesseract"
      ],
      "metadata": {
        "colab": {
          "base_uri": "https://localhost:8080/"
        },
        "id": "70QoHeHjKY_O",
        "outputId": "e5815a9e-5b1f-4917-bda1-90d0ab539c76"
      },
      "execution_count": 5,
      "outputs": [
        {
          "output_type": "stream",
          "name": "stdout",
          "text": [
            "Reading package lists... Done\n",
            "Building dependency tree       \n",
            "Reading state information... Done\n",
            "tesseract-ocr is already the newest version (4.1.1-2build2).\n",
            "0 upgraded, 0 newly installed, 0 to remove and 24 not upgraded.\n",
            "Looking in indexes: https://pypi.org/simple, https://us-python.pkg.dev/colab-wheels/public/simple/\n",
            "Requirement already satisfied: pytesseract in /usr/local/lib/python3.9/dist-packages (0.3.10)\n",
            "Requirement already satisfied: Pillow>=8.0.0 in /usr/local/lib/python3.9/dist-packages (from pytesseract) (8.4.0)\n",
            "Requirement already satisfied: packaging>=21.3 in /usr/local/lib/python3.9/dist-packages (from pytesseract) (23.0)\n"
          ]
        }
      ]
    },
    {
      "cell_type": "code",
      "metadata": {
        "id": "k_pHCVHF9Ba5",
        "colab": {
          "base_uri": "https://localhost:8080/",
          "height": 75
        },
        "outputId": "3b73c8fa-09ce-4a4c-cc4c-c12afed72f2e"
      },
      "source": [
        "import pandas as pd\n",
        "from sklearn.preprocessing import PolynomialFeatures\n",
        "from sklearn.linear_model import LinearRegression\n",
        "import requests\n",
        "from PIL import Image, ImageOps\n",
        "import pytesseract\n",
        "from io import BytesIO\n",
        "import numpy as np\n",
        "\n",
        "\n",
        "def create_dataset(data):\n",
        "    X = data[:, 0].reshape(-1, 1)\n",
        "    y = data[:, 1].reshape(-1, 1)\n",
        "    return X, y\n",
        "\n",
        "dataset1 = np.array([\n",
        "    [1.020408163, 1.525445846],\n",
        "    [1.049019608, 1.560103292],\n",
        "    [1.086956522, 1.606557377],\n",
        "    [1.148734177, 1.673073086],\n",
        "    [1.162790698, 1.688362652],\n",
        "    [1.166666667, 1.705882353],\n",
        "    [1.192771084, 1.720207945],\n",
        "    [1.25, 1.777794404],\n",
        "    [1.25, 1.778464254],\n",
        "    [1.283842795, 1.810702138],\n",
        "    [1.333333333, 1.862068966],\n",
        "    [1.363636364, 1.887345679],\n",
        "    [1.388888889, 1.906616257],\n",
        "    [1.388888889, 1.906961193],\n",
        "    [1.4, 1.9218107],\n",
        "    [1.416666667, 1.932327167],\n",
        "    [1.428571429, 1.943669528],\n",
        "    [1.45, 1.960015379],\n",
        "    [1.485148515, 1.988570148],\n",
        "    [1.5, 2.002361275]\n",
        "])\n",
        "\n",
        "X1, y1 = create_dataset(dataset1)\n",
        "\n",
        "dataset2 = np.array([\n",
        "    [1.485148515, 1.988570148],\n",
        "    [1.5, 2.002361275],\n",
        "    [1.8, 2.214345992],\n",
        "    [1.851851852, 2.248992748],\n",
        "    [1.886792453, 2.268008232],\n",
        "    [1.930731707, 2.294513121],\n",
        "    [2.040816327, 2.356053013],\n",
        "    [2.25, 2.458695652],\n",
        "    [2.5, 2.594771242],\n",
        "    [2.729508197, 2.659179175],\n",
        "    [3, 2.750310559],\n",
        "    [3, 2.75708502],\n",
        "    [3.125, 2.787451533],\n",
        "    [3.333333333, 2.845689493],\n",
        "    [3.511363636, 2.891874702],\n",
        "    [4, 3.010186757],\n",
        "    [4.666666667, 3.118362124],\n",
        "    [5, 3.167769376],\n",
        "    [5, 3.168224299],\n",
        "    [5.479452055, 3.228808536],\n",
        "    [5.800947867, 3.264898919],\n",
        "    [5.941176471, 3.281713344],\n",
        "    [6, 3.287804878],\n",
        "    [6.301369863, 3.315228089],\n",
        "    [7.5, 3.411666667],\n",
        "    [7.5, 3.412280702],\n",
        "    [8, 3.443908323]\n",
        "])\n",
        "\n",
        "X2, y2 = create_dataset(dataset2)\n",
        "\n",
        "dataset3 = np.array([\n",
        "    [8,3.443908323],\n",
        "    [8.333333333,3.462385899],\n",
        "    [8.5,3.474226804],\n",
        "    [9.336448598,3.516258583],\n",
        "    [10,3.55],\n",
        "    [10,3.551210428],\n",
        "    [11.11111111,3.586206897],\n",
        "    [11.11111111,3.59112426],\n",
        "    [12.33333333,3.6250295],\n",
        "    [14,3.666483456],\n",
        "    [14.27142857,3.672679505],\n",
        "    [15.71428571,3.704481793],\n",
        "    [16.66666667,3.720626632],\n",
        "    [21.35714286,3.776863961],\n",
        "    [22,3.782079165],\n",
        "    [29,3.834249804],\n",
        "    [30,3.83880597],\n",
        "    [33.33333333,3.854470426],\n",
        "    [34.44827586,3.858971552],\n",
        "    [37.5,3.871282417],\n",
        "    [50,3.902043932]\n",
        "])\n",
        "\n",
        "X3, y3 = create_dataset(dataset3)\n",
        "\n",
        "poly_reg1 = PolynomialFeatures(degree=3)\n",
        "X_poly1 = poly_reg1.fit_transform(X1)\n",
        "\n",
        "poly_reg2 = PolynomialFeatures(degree=5)\n",
        "X_poly2 = poly_reg2.fit_transform(X2)\n",
        "\n",
        "poly_reg3 = PolynomialFeatures(degree=5)\n",
        "X_poly3 = poly_reg3.fit_transform(X3)\n",
        "\n",
        "pol_reg1 = LinearRegression()\n",
        "pol_reg2 = LinearRegression()\n",
        "pol_reg3 = LinearRegression()\n",
        "\n",
        "pol_reg1.fit(X_poly1, y1)\n",
        "pol_reg2.fit(X_poly2, y2)\n",
        "pol_reg3.fit(X_poly3, y3)"
      ],
      "execution_count": 6,
      "outputs": [
        {
          "output_type": "execute_result",
          "data": {
            "text/plain": [
              "LinearRegression()"
            ],
            "text/html": [
              "<style>#sk-container-id-2 {color: black;background-color: white;}#sk-container-id-2 pre{padding: 0;}#sk-container-id-2 div.sk-toggleable {background-color: white;}#sk-container-id-2 label.sk-toggleable__label {cursor: pointer;display: block;width: 100%;margin-bottom: 0;padding: 0.3em;box-sizing: border-box;text-align: center;}#sk-container-id-2 label.sk-toggleable__label-arrow:before {content: \"▸\";float: left;margin-right: 0.25em;color: #696969;}#sk-container-id-2 label.sk-toggleable__label-arrow:hover:before {color: black;}#sk-container-id-2 div.sk-estimator:hover label.sk-toggleable__label-arrow:before {color: black;}#sk-container-id-2 div.sk-toggleable__content {max-height: 0;max-width: 0;overflow: hidden;text-align: left;background-color: #f0f8ff;}#sk-container-id-2 div.sk-toggleable__content pre {margin: 0.2em;color: black;border-radius: 0.25em;background-color: #f0f8ff;}#sk-container-id-2 input.sk-toggleable__control:checked~div.sk-toggleable__content {max-height: 200px;max-width: 100%;overflow: auto;}#sk-container-id-2 input.sk-toggleable__control:checked~label.sk-toggleable__label-arrow:before {content: \"▾\";}#sk-container-id-2 div.sk-estimator input.sk-toggleable__control:checked~label.sk-toggleable__label {background-color: #d4ebff;}#sk-container-id-2 div.sk-label input.sk-toggleable__control:checked~label.sk-toggleable__label {background-color: #d4ebff;}#sk-container-id-2 input.sk-hidden--visually {border: 0;clip: rect(1px 1px 1px 1px);clip: rect(1px, 1px, 1px, 1px);height: 1px;margin: -1px;overflow: hidden;padding: 0;position: absolute;width: 1px;}#sk-container-id-2 div.sk-estimator {font-family: monospace;background-color: #f0f8ff;border: 1px dotted black;border-radius: 0.25em;box-sizing: border-box;margin-bottom: 0.5em;}#sk-container-id-2 div.sk-estimator:hover {background-color: #d4ebff;}#sk-container-id-2 div.sk-parallel-item::after {content: \"\";width: 100%;border-bottom: 1px solid gray;flex-grow: 1;}#sk-container-id-2 div.sk-label:hover label.sk-toggleable__label {background-color: #d4ebff;}#sk-container-id-2 div.sk-serial::before {content: \"\";position: absolute;border-left: 1px solid gray;box-sizing: border-box;top: 0;bottom: 0;left: 50%;z-index: 0;}#sk-container-id-2 div.sk-serial {display: flex;flex-direction: column;align-items: center;background-color: white;padding-right: 0.2em;padding-left: 0.2em;position: relative;}#sk-container-id-2 div.sk-item {position: relative;z-index: 1;}#sk-container-id-2 div.sk-parallel {display: flex;align-items: stretch;justify-content: center;background-color: white;position: relative;}#sk-container-id-2 div.sk-item::before, #sk-container-id-2 div.sk-parallel-item::before {content: \"\";position: absolute;border-left: 1px solid gray;box-sizing: border-box;top: 0;bottom: 0;left: 50%;z-index: -1;}#sk-container-id-2 div.sk-parallel-item {display: flex;flex-direction: column;z-index: 1;position: relative;background-color: white;}#sk-container-id-2 div.sk-parallel-item:first-child::after {align-self: flex-end;width: 50%;}#sk-container-id-2 div.sk-parallel-item:last-child::after {align-self: flex-start;width: 50%;}#sk-container-id-2 div.sk-parallel-item:only-child::after {width: 0;}#sk-container-id-2 div.sk-dashed-wrapped {border: 1px dashed gray;margin: 0 0.4em 0.5em 0.4em;box-sizing: border-box;padding-bottom: 0.4em;background-color: white;}#sk-container-id-2 div.sk-label label {font-family: monospace;font-weight: bold;display: inline-block;line-height: 1.2em;}#sk-container-id-2 div.sk-label-container {text-align: center;}#sk-container-id-2 div.sk-container {/* jupyter's `normalize.less` sets `[hidden] { display: none; }` but bootstrap.min.css set `[hidden] { display: none !important; }` so we also need the `!important` here to be able to override the default hidden behavior on the sphinx rendered scikit-learn.org. See: https://github.com/scikit-learn/scikit-learn/issues/21755 */display: inline-block !important;position: relative;}#sk-container-id-2 div.sk-text-repr-fallback {display: none;}</style><div id=\"sk-container-id-2\" class=\"sk-top-container\"><div class=\"sk-text-repr-fallback\"><pre>LinearRegression()</pre><b>In a Jupyter environment, please rerun this cell to show the HTML representation or trust the notebook. <br />On GitHub, the HTML representation is unable to render, please try loading this page with nbviewer.org.</b></div><div class=\"sk-container\" hidden><div class=\"sk-item\"><div class=\"sk-estimator sk-toggleable\"><input class=\"sk-toggleable__control sk-hidden--visually\" id=\"sk-estimator-id-2\" type=\"checkbox\" checked><label for=\"sk-estimator-id-2\" class=\"sk-toggleable__label sk-toggleable__label-arrow\">LinearRegression</label><div class=\"sk-toggleable__content\"><pre>LinearRegression()</pre></div></div></div></div></div>"
            ]
          },
          "metadata": {},
          "execution_count": 6
        }
      ]
    },
    {
      "cell_type": "code",
      "source": [
        "xconfig = '--psm 6 --oem 3 -c tessedit_char_whitelist=0123456789'"
      ],
      "metadata": {
        "id": "e4YFIby19iCA"
      },
      "execution_count": null,
      "outputs": []
    },
    {
      "cell_type": "code",
      "source": [
        "url = input(\"Enter a URL: \")\n",
        "\n",
        "response = requests.get(url)"
      ],
      "metadata": {
        "colab": {
          "base_uri": "https://localhost:8080/"
        },
        "id": "z44pf4zb5F6d",
        "outputId": "0fb39851-6457-4d51-d792-8096dcf497f4"
      },
      "execution_count": 15,
      "outputs": [
        {
          "name": "stdout",
          "output_type": "stream",
          "text": [
            "Enter a URL: https://i.imgur.com/yV0T4TE.png\n"
          ]
        }
      ]
    },
    {
      "cell_type": "code",
      "source": [
        "from PIL import Image, ImageOps\n",
        "import pytesseract\n",
        "import cv2\n",
        "from google.colab.patches import cv2_imshow\n",
        "\n",
        "# Open the image\n",
        "image = Image.open(BytesIO(response.content))\n",
        "\n",
        "# Get the width and height of the image\n",
        "width, height = image.size\n",
        "\n",
        "# Define the region to be cropped (1500 pixels from the left, 1040 pixels from the top, 200 pixels from the right)\n",
        "region = (1500, 1035, width - 150, height - 22)\n",
        "\n",
        "# Crop the image to the specified region\n",
        "cropped_image = image.crop(region)\n",
        "\n",
        "# Save the cropped image\n",
        "cropped_image.save('fund.png')\n",
        "\n",
        "# Resize the cropped image\n",
        "resized_image = cropped_image.resize((cropped_image.width * 8, cropped_image.height * 6))\n",
        "\n",
        "# Convert the resized image to black and white\n",
        "bw_image = ImageOps.invert(resized_image.convert('RGB')).convert('L')\n",
        "\n",
        "# Save the black and white image\n",
        "bw_image.save(\"fund_BW.png\")\n",
        "\n",
        "image = cv2.imread('fund_BW.png', 0)\n",
        "thresh = cv2.threshold(image, 0, 255, cv2.THRESH_BINARY + cv2.THRESH_OTSU)[1]\n",
        "\n",
        "\n",
        "# Perform text extraction\n",
        "results = pytesseract.image_to_data(thresh, lang='eng', output_type='dict', config='--psm 10')\n",
        "\n",
        "# Find the word \"Battle\" in the results and get its coordinates\n",
        "word_x, word_y, word_w, word_h = None, None, None, None\n",
        "for idx, text in enumerate(results['text']):\n",
        "    if text == 'Battle':\n",
        "        word_x = results['left'][idx]\n",
        "        word_y = results['top'][idx]\n",
        "        word_w = results['width'][idx]\n",
        "        word_h = results['height'][idx]\n",
        "        break\n",
        "\n",
        "if word_x is not None:\n",
        "    # Define the region of interest (ROI) around the word \"Battle\"\n",
        "    roi = (word_x + 530, word_y, word_w + 540, word_h)\n",
        "\n",
        "    # Crop the thresholded image to the ROI\n",
        "    cropped_word = thresh[word_y:word_y + word_h, word_x + 530:word_x + word_w + 540]\n",
        "\n",
        "    # Save the cropped word as a new image\n",
        "    cv2.imwrite('battle.png', cropped_word)\n",
        "\n",
        "    print(\"The word 'Battle' has been cropped and saved as 'battle.png'.\")\n",
        "else:\n",
        "    print(\"The word 'Battle' was not found in the image.\")\n",
        "\n",
        "# Use Tesseract to recognize text from the image\n",
        "fund = pytesseract.image_to_string('battle.png', config=xconfig)\n",
        "funds = list(map(int, fund.strip().split()))\n",
        "\n",
        "print(funds)"
      ],
      "metadata": {
        "id": "O_0b62rHR8nS",
        "colab": {
          "base_uri": "https://localhost:8080/"
        },
        "outputId": "5e880d8c-589f-4354-876d-906c45864942"
      },
      "execution_count": 25,
      "outputs": [
        {
          "output_type": "stream",
          "name": "stdout",
          "text": [
            "The word 'Battle' has been cropped and saved as 'battle.png'.\n",
            "[1486]\n"
          ]
        }
      ]
    },
    {
      "cell_type": "code",
      "source": [
        "from PIL import Image, ImageOps\n",
        "import pytesseract\n",
        "import re\n",
        "from google.colab.patches import cv2_imshow\n",
        "\n",
        "# Open the image\n",
        "image = Image.open(BytesIO(response.content))\n",
        "\n",
        "# Get the width and height of the image\n",
        "width, height = image.size\n",
        "\n",
        "# Define the region to be cropped (1500 pixels from the left, 1027 pixels from the top, 200 pixels from the right)\n",
        "region = (1770, 1030, width-10, height-15)\n",
        "\n",
        "# Crop the image to the specified region\n",
        "cropped_image = image.crop(region)\n",
        "\n",
        "# Save the cropped image\n",
        "cropped_image.save('flags.png')\n",
        "\n",
        "# Resize the cropped image\n",
        "resized_image = cropped_image.resize((cropped_image.width * 8, cropped_image.height * 6))\n",
        "\n",
        "# Convert the resized image to black and white\n",
        "bw_image = ImageOps.invert(resized_image.convert('RGB')).convert('L')\n",
        "\n",
        "# Save the black and white image\n",
        "bw_image.save(\"flags_BW.png\")\n",
        "\n",
        "image = cv2.imread('flags_BW.png', 0)\n",
        "thresh = cv2.threshold(image, 0, 255, cv2.THRESH_BINARY + cv2.THRESH_OTSU)[1]\n",
        "\n",
        "# Use Tesseract to recognize text from the image\n",
        "flag = pytesseract.image_to_string(thresh, config='--psm 9')\n",
        "\n",
        "# Remove non-numeric characters from the recognized text\n",
        "flags = re.findall(r'\\d+', flag)\n",
        "\n",
        "# Convert the recognized numbers to integers\n",
        "flags = list(map(int, flags))\n",
        "\n",
        "print(flags)\n"
      ],
      "metadata": {
        "colab": {
          "base_uri": "https://localhost:8080/"
        },
        "id": "e7HvfVtO5Tho",
        "outputId": "9fb58086-a611-42a6-bde8-96ccae437308"
      },
      "execution_count": 24,
      "outputs": [
        {
          "output_type": "stream",
          "name": "stdout",
          "text": [
            "[8, 4]\n"
          ]
        }
      ]
    },
    {
      "cell_type": "code",
      "source": [
        "from PIL import Image, ImageOps\n",
        "import pytesseract\n",
        "import re\n",
        "from google.colab.patches import cv2_imshow\n",
        "\n",
        "# Open the image\n",
        "image = Image.open(BytesIO(response.content))\n",
        "\n",
        "# Get the width and height of the image\n",
        "width, height = image.size\n",
        "\n",
        "# Define the region to be cropped (1500 pixels from the left, 1027 pixels from the top, 200 pixels from the right)\n",
        "region = (920, 150, width - 950, height-98)\n",
        "\n",
        "# Crop the image to the specified region\n",
        "cropped_image = image.crop(region)\n",
        "\n",
        "# Save the cropped image\n",
        "cropped_image.save('full_score.png')\n",
        "\n",
        "# Resize the cropped image\n",
        "resized_image = cropped_image.resize((cropped_image.width * 3, cropped_image.height * 3))\n",
        "\n",
        "# Convert the resized image to black and white\n",
        "bw_image = ImageOps.invert(resized_image.convert('RGB')).convert('L')\n",
        "\n",
        "# Save the black and white image\n",
        "bw_image.save(\"full_score_BW.png\")\n",
        "\n",
        "image = cv2.imread('full_score_BW.png', 0)\n",
        "thresh = cv2.threshold(image, 0, 255, cv2.THRESH_BINARY + cv2.THRESH_OTSU)[1]\n",
        "\n",
        "# Use Tesseract to recognize text from the image\n",
        "score = pytesseract.image_to_string(thresh, config=xconfig)\n",
        "scores = list(map(int, score.strip().split()))\n",
        "\n",
        "if scores[0] < scores[1]:\n",
        "    # Remove the first number from the list\n",
        "    scores.pop(0)\n",
        "\n",
        "original_list = scores\n",
        "\n",
        "if original_list[0] < original_list[1]:\n",
        "    # Remove the first number from the list\n",
        "    original_list.pop(0)\n",
        "\n",
        "# Split the list in the middle when previous number is smaller than the following number\n",
        "for i in range(1, len(original_list)):\n",
        "    if original_list[i - 1] < original_list[i]:\n",
        "        left_list = original_list[:i]\n",
        "        right_list = original_list[i:]\n",
        "        break\n",
        "\n",
        "for i in range(len(right_list)-1, 0, -1):\n",
        "    if right_list[i] >= right_list[i-1]:  # Compare current element with previous element\n",
        "        right_list.pop(i)  # Remove the current element if it's not smaller\n",
        "\n",
        "print(\"Left list:\", left_list)\n",
        "print(\"Right list:\", right_list)\n"
      ],
      "metadata": {
        "colab": {
          "base_uri": "https://localhost:8080/"
        },
        "id": "vbaq3zQj80Hi",
        "outputId": "c88bd4f2-6b82-479e-c22f-31699815b21f"
      },
      "execution_count": 27,
      "outputs": [
        {
          "output_type": "stream",
          "name": "stdout",
          "text": [
            "Left list: [937, 908, 243, 109, 31, 17, 10, 10, 5]\n",
            "Right list: [550, 294, 272, 119, 99, 46, 40, 27, 22, 10]\n"
          ]
        }
      ]
    },
    {
      "cell_type": "code",
      "source": [
        "WinningScore = []\n",
        "LossingScore = []\n",
        "\n",
        "if RedFlag>BlueFlag:\n",
        "  WinningFlag=RedFlag\n",
        "  LossingFlag=BlueFlag\n",
        "  if(Choosing == 'Hand' or Choosing == 'hand'):\n",
        "    WinningScore=RedTeamScore\n",
        "    LossingScore=BlueTeamScore\n",
        "  else:\n",
        "    WinningScore=scores[1]\n",
        "    LossingScore=scores[0]\n",
        "else:\n",
        "  WinningFlag=BlueFlag\n",
        "  LossingFlag=RedFlag\n",
        "  if(Choosing == 'Hand' or Choosing == 'hand'):\n",
        "    WinningScore=BlueTeamScore\n",
        "    LossingScore=RedTeamScore\n",
        "  else:\n",
        "    WinningScore=scores[0]\n",
        "    LossingScore=scores[1]\n",
        "\n",
        "if RedFlag == BlueFlag:\n",
        "  PredictionRatio = 1\n",
        "elif LossingFlag == 0:\n",
        "    PredictionRatio = 4\n",
        "else:\n",
        "    FlagRatio = WinningFlag / LossingFlag\n",
        "    if FlagRatio < 1.5:\n",
        "        PredictionRatio = pol_reg1.predict(poly_reg1.fit_transform([[FlagRatio]]))\n",
        "    elif FlagRatio > 8:\n",
        "        PredictionRatio = pol_reg3.predict(poly_reg3.fit_transform([[FlagRatio]]))\n",
        "    else:\n",
        "        PredictionRatio = pol_reg2.predict(poly_reg2.fit_transform([[FlagRatio]]))\n",
        "\n",
        "LossingTeamCrystals = BattleFund * (1 / (PredictionRatio + 1))\n",
        "WinningTeamCrystals = BattleFund - LossingTeamCrystals\n",
        "\n",
        "WinningCrystal = WinningTeamCrystals / sum(WinningScore)\n",
        "LossingCrystal = LossingTeamCrystals / sum(LossingScore)\n",
        "\n",
        "WinningIndividualCrystals = np.round(np.multiply(WinningScore, WinningCrystal), 0)\n",
        "LossingIndividualCrystals = np.round(np.multiply(LossingScore, LossingCrystal), 0)\n",
        "\n",
        "if RedFlag > BlueFlag:\n",
        "    print('Red Team players will get: ', ', '.join(map(str, WinningIndividualCrystals)))\n",
        "    print('\\n')\n",
        "    print('Blue Team players will get: ', ', '.join(map(str, LossingIndividualCrystals)))\n",
        "else:\n",
        "    print('Red Team players will get: ', ', '.join(map(str, LossingIndividualCrystals)))\n",
        "    print('\\n')\n",
        "    print('Blue Team players will get: ', ', '.join(map(str, WinningIndividualCrystals)))"
      ],
      "metadata": {
        "colab": {
          "base_uri": "https://localhost:8080/"
        },
        "id": "m83h8NCYVrHa",
        "outputId": "ad9b0abb-b297-4004-ccd2-ccc64dc0bf70"
      },
      "execution_count": null,
      "outputs": [
        {
          "output_type": "stream",
          "name": "stdout",
          "text": [
            "Red Team players will get:  [8692. 8169. 3777. 1608.  947.  708.]\n",
            "\n",
            "\n",
            "Blue Team players will get:  [11435.   735.   512.    16.]\n"
          ]
        }
      ]
    },
    {
      "cell_type": "code",
      "source": [
        "import time\n",
        "time.sleep(60000)"
      ],
      "metadata": {
        "id": "TmSTJcsCMHCW"
      },
      "execution_count": null,
      "outputs": []
    }
  ]
}